{
  "nbformat": 4,
  "nbformat_minor": 0,
  "metadata": {
    "colab": {
      "provenance": []
    },
    "kernelspec": {
      "name": "python3",
      "display_name": "Python 3"
    },
    "language_info": {
      "name": "python"
    }
  },
  "cells": [
    {
      "cell_type": "code",
      "execution_count": 1,
      "metadata": {
        "id": "x4T5Hc3TFqob"
      },
      "outputs": [],
      "source": [
        "import scipy.stats as stats\n",
        "from scipy.stats import chi2_contingency\n",
        "import numpy as np\n",
        "import pandas as pd"
      ]
    },
    {
      "cell_type": "code",
      "source": [
        "#given data\n",
        "alpha=0.05"
      ],
      "metadata": {
        "id": "cTOcpAR_GNW3"
      },
      "execution_count": 2,
      "outputs": []
    },
    {
      "cell_type": "markdown",
      "source": [
        "**State the Hypotheses**\n",
        "\n",
        "a). Null Hypothesis (H₀): There is no significant association between the type of device purchased (Smart Thermostats vs. Smart Lights) and customer satisfaction level.\n",
        "\n",
        "b). Alternative Hypothesis (H₁): There is a significant association between the type of device purchased and customer satisfaction level."
      ],
      "metadata": {
        "id": "QV6K8B9jGRED"
      }
    },
    {
      "cell_type": "code",
      "source": [
        "#Observed frequencies\n",
        "observed = np.array([[50, 70],\n",
        "                     [80, 100],\n",
        "                     [60, 90], [30, 50],\n",
        "                     [20, 50]])"
      ],
      "metadata": {
        "id": "_RcuD1fgGOel"
      },
      "execution_count": 3,
      "outputs": []
    },
    {
      "cell_type": "markdown",
      "source": [
        "**Performing chi - square statistics**"
      ],
      "metadata": {
        "id": "9tssnWNDGpwM"
      }
    },
    {
      "cell_type": "code",
      "source": [
        "chi2_stat, p_value, dof, expected = stats.chi2_contingency(observed)\n",
        "\n",
        "print(\"Chi-Square Statistic value:\", chi2_stat)         #chi2_stats value\n",
        "print(\"P-Value:\", p_value)                        #this gives p value\n",
        "print(\"Degrees of Freedom :\", dof)                 #degree of freedom\n",
        "print(\"Expected Frequency:\",expected)             #expected frequency from observed frequency"
      ],
      "metadata": {
        "colab": {
          "base_uri": "https://localhost:8080/"
        },
        "id": "RyinjI4WGOif",
        "outputId": "a65c2ac6-078d-4a35-b847-5a8954d2cc30"
      },
      "execution_count": 4,
      "outputs": [
        {
          "output_type": "stream",
          "name": "stdout",
          "text": [
            "Chi-Square Statistic value: 5.638227513227513\n",
            "P-Value: 0.22784371130697179\n",
            "Degrees of Freedom : 4\n",
            "Expected Frequency: [[ 48.  72.]\n",
            " [ 72. 108.]\n",
            " [ 60.  90.]\n",
            " [ 32.  48.]\n",
            " [ 28.  42.]]\n"
          ]
        }
      ]
    },
    {
      "cell_type": "markdown",
      "source": [
        "**Critical value**"
      ],
      "metadata": {
        "id": "D4uzahMkG8Iq"
      }
    },
    {
      "cell_type": "code",
      "source": [
        "crit_value = stats.chi2.ppf(1 - alpha, dof)\n",
        "crit_value"
      ],
      "metadata": {
        "colab": {
          "base_uri": "https://localhost:8080/"
        },
        "id": "6N5wF6NKGOlw",
        "outputId": "a314638b-9e7d-42e0-adf6-19182bab8822"
      },
      "execution_count": 5,
      "outputs": [
        {
          "output_type": "execute_result",
          "data": {
            "text/plain": [
              "9.487729036781154"
            ]
          },
          "metadata": {},
          "execution_count": 5
        }
      ]
    },
    {
      "cell_type": "code",
      "source": [
        "print(\"Critical Value at alpha = 0.05: is \", crit_value)"
      ],
      "metadata": {
        "colab": {
          "base_uri": "https://localhost:8080/"
        },
        "id": "LXWBgFTXGOor",
        "outputId": "5748316b-51e2-46d9-c980-97f9e875c38d"
      },
      "execution_count": 7,
      "outputs": [
        {
          "output_type": "stream",
          "name": "stdout",
          "text": [
            "Critical Value at alpha = 0.05: is  9.487729036781154\n"
          ]
        }
      ]
    },
    {
      "cell_type": "markdown",
      "source": [
        "**Conclusion**"
      ],
      "metadata": {
        "id": "_LKsfdjNHTxl"
      }
    },
    {
      "cell_type": "markdown",
      "source": [
        "P-value :- 0.22\n",
        "\n",
        "Since the Chi-Square statistic (5.63) is less than the critical value (9.49), and the p-value (0.22) is greater than the significance level (0.05), we fail to reject the null hypothesis."
      ],
      "metadata": {
        "id": "udyYTODjHa9r"
      }
    },
    {
      "cell_type": "code",
      "source": [
        "if chi2_stat > crit_value:\n",
        "    print(\"Reject the null hypothesis: That means, There is a significant association between the type of device and customer satisfaction.\")\n",
        "else:\n",
        "    print(\"Fail to reject the null hypothesis: There is no significant association between the type of device and customer satisfaction.\")"
      ],
      "metadata": {
        "colab": {
          "base_uri": "https://localhost:8080/"
        },
        "id": "pbStjD0MHWnO",
        "outputId": "c61171f6-ad43-4073-ba00-1270d1be5866"
      },
      "execution_count": 8,
      "outputs": [
        {
          "output_type": "stream",
          "name": "stdout",
          "text": [
            "Fail to reject the null hypothesis: There is no significant association between the type of device and customer satisfaction.\n"
          ]
        }
      ]
    },
    {
      "cell_type": "markdown",
      "source": [
        "As we can conclude that Chi-square test Stats is less than critical value so we fail to reject null hypothersis, There is No Association between the type of device and customer satisfaction."
      ],
      "metadata": {
        "id": "P8eUqyNHHvDD"
      }
    }
  ]
}