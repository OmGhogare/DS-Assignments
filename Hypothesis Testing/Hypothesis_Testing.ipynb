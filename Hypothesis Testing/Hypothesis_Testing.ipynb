{
  "nbformat": 4,
  "nbformat_minor": 0,
  "metadata": {
    "colab": {
      "provenance": []
    },
    "kernelspec": {
      "name": "python3",
      "display_name": "Python 3"
    },
    "language_info": {
      "name": "python"
    }
  },
  "cells": [
    {
      "cell_type": "code",
      "execution_count": 3,
      "metadata": {
        "id": "3EzrWysmIaRY"
      },
      "outputs": [],
      "source": [
        "x_bar = 3050 #sample mean\n",
        "n= 25 #sample size\n",
        "sigma= 5*25 #units\n",
        "mean=1000+5*600 #theoretical mean weekly cost according to the cost model (W = $1,000 + $5X for X = 600 units)"
      ]
    },
    {
      "cell_type": "markdown",
      "source": [],
      "metadata": {
        "id": "wUUPwWKbIqMi"
      }
    },
    {
      "cell_type": "code",
      "source": [
        "import scipy.stats as stats\n",
        "import numpy as np\n",
        "import math"
      ],
      "metadata": {
        "id": "O1YRC0n0IsVo"
      },
      "execution_count": 1,
      "outputs": []
    },
    {
      "cell_type": "markdown",
      "source": [
        "**Stating Hypothesis**"
      ],
      "metadata": {
        "id": "jOKjxsR2Ixq9"
      }
    },
    {
      "cell_type": "markdown",
      "source": [
        "# This is one tailed test.\n",
        "\n",
        "H0 (Null Hypothesis): The weekly operating cost is equal to or less than the model's cost.\n",
        "\n",
        "H1 (Alternative Hypothesis): The weekly operating cost is greater than the model's cost."
      ],
      "metadata": {
        "id": "wbdXzmlMI7bN"
      }
    },
    {
      "cell_type": "code",
      "source": [
        "# Calculate the test statistics by using formula and using given data:\n",
        "\n",
        "t_stats=(x_bar - mean) / (sigma / math.sqrt(n))\n",
        "t_stats"
      ],
      "metadata": {
        "colab": {
          "base_uri": "https://localhost:8080/"
        },
        "id": "3qOZzfpvI24e",
        "outputId": "96f8e56e-bc16-41bd-9ef1-19d99ce79740"
      },
      "execution_count": 4,
      "outputs": [
        {
          "output_type": "execute_result",
          "data": {
            "text/plain": [
              "-38.0"
            ]
          },
          "metadata": {},
          "execution_count": 4
        }
      ]
    },
    {
      "cell_type": "code",
      "source": [
        "# Determine the Critical Value using, one tailed test at alpha = 0.05\n",
        "alpha=0.05\n",
        "CI=0.95 # confidence interval is (1-alpha)"
      ],
      "metadata": {
        "id": "yGjT9PEuJIoC"
      },
      "execution_count": 5,
      "outputs": []
    },
    {
      "cell_type": "code",
      "source": [
        "critical_value=stats.norm.ppf(0.95)\n",
        "critical_value"
      ],
      "metadata": {
        "colab": {
          "base_uri": "https://localhost:8080/"
        },
        "id": "KXUrJ34oJK-r",
        "outputId": "4b7bbd4e-6fc3-4681-d0b7-cbe8c50141d6"
      },
      "execution_count": 6,
      "outputs": [
        {
          "output_type": "execute_result",
          "data": {
            "text/plain": [
              "1.6448536269514722"
            ]
          },
          "metadata": {},
          "execution_count": 6
        }
      ]
    },
    {
      "cell_type": "markdown",
      "source": [
        "**Decision**"
      ],
      "metadata": {
        "id": "yQyGFu-8JQGp"
      }
    },
    {
      "cell_type": "code",
      "source": [
        "if t_stats > critical_value:\n",
        "    print(\"Reject the null hypothesis, That means The weekly operating cost is greater than the model's cost\")\n",
        "else:\n",
        "    print(\"Fail to reject the null hypothesis,weekly operating cost is equal or less than the model's cost\")"
      ],
      "metadata": {
        "colab": {
          "base_uri": "https://localhost:8080/"
        },
        "id": "YrjH5owgJPP5",
        "outputId": "419aefc8-43a4-4e6a-e897-992dc9708d26"
      },
      "execution_count": 7,
      "outputs": [
        {
          "output_type": "stream",
          "name": "stdout",
          "text": [
            "Fail to reject the null hypothesis,weekly operating cost is equal or less than the model's cost\n"
          ]
        }
      ]
    },
    {
      "cell_type": "markdown",
      "source": [
        "Conclusion\n",
        "\n",
        "There is no significant evidence to support the claim that the weekly operating costs are higher than the model suggests. Therefore, the theoretical cost model still holds based on this sample data.\n",
        "\n",
        "\n",
        "Since the test statistic (-38.00) is much smaller than the critical value (1.64), this means that the sample data does not provide enough evidence to suggest that the actual weekly operating costs are significantly higher than what the cost model predicts.\n",
        "\n",
        "HENCE\n",
        "\n",
        "The data does not support the restaurant owners' claim that the weekly operating costs have increased beyond the predicted levels of the cost model. Therefore, we continue to assume that the current model is accurate for now."
      ],
      "metadata": {
        "id": "3TJ5d_OcJVyP"
      }
    }
  ]
}