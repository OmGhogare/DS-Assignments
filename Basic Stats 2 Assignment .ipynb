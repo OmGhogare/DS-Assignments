{
 "cells": [
  {
   "cell_type": "markdown",
   "id": "ddd75c0b-284c-439f-9820-29ed63baf641",
   "metadata": {},
   "source": [
    "# Building Confidence Interval Code\n",
    "\n",
    "- Scenario\n",
    "A manufacturer of print-heads for personal computers is interested in estimating the mean durability of their print-heads in terms of the number of characters printed before failure. To assess this, the manufacturer conducts a study on a small sample of print-heads due to the destructive nature of the testing process\n",
    "\n",
    "- \n",
    "Data\n",
    "A total of 15 print-heads were randomly selected and tested until failure. The durability of each print-head (in millions of characters) was recorded as follows:\n",
    "1.13, 1.55, 1.43, 0.92, 1.25, 1.36, 1.32, 0.85, 1.07, 1.48, 1.20, 1.33, 1.18, 1.22, .29\n"
   ]
  },
  {
   "cell_type": "code",
   "execution_count": 1,
   "id": "edb693ac-373e-4e03-b68e-c4c551327b41",
   "metadata": {},
   "outputs": [],
   "source": [
    "import numpy as np\n",
    "from scipy import stats"
   ]
  },
  {
   "cell_type": "code",
   "execution_count": 3,
   "id": "dc026b03-2cd8-4e59-bc5d-9987bb1983d5",
   "metadata": {},
   "outputs": [
    {
     "data": {
      "text/plain": [
       "[1.13,\n",
       " 1.55,\n",
       " 1.43,\n",
       " 0.92,\n",
       " 1.25,\n",
       " 1.36,\n",
       " 1.32,\n",
       " 0.85,\n",
       " 1.07,\n",
       " 1.48,\n",
       " 1.2,\n",
       " 1.33,\n",
       " 1.18,\n",
       " 1.22,\n",
       " 0.29]"
      ]
     },
     "execution_count": 3,
     "metadata": {},
     "output_type": "execute_result"
    }
   ],
   "source": [
    "# making an array for the data\n",
    "\n",
    "durability= ([1.13, 1.55, 1.43, 0.92, 1.25, 1.36, 1.32, 0.85, 1.07, 1.48, 1.20, 1.33, 1.18, 1.22, .29])\n",
    "durability"
   ]
  },
  {
   "cell_type": "code",
   "execution_count": 4,
   "id": "76856789-45b2-4e02-832a-2f5f11940547",
   "metadata": {},
   "outputs": [],
   "source": [
    "# Sample Statistics\n",
    "\n",
    "x = len(durability)\n",
    "sample_mean = np.mean(durability)\n",
    "sample_std = np.std(durability, ddof = 1)   # Sample Standard Deviation (ddof = 1)"
   ]
  },
  {
   "cell_type": "code",
   "execution_count": 5,
   "id": "dd81efb6-b6b9-4bf8-9da1-34c15b076e38",
   "metadata": {},
   "outputs": [
    {
     "data": {
      "text/plain": [
       "0.31087893831154645"
      ]
     },
     "execution_count": 5,
     "metadata": {},
     "output_type": "execute_result"
    }
   ],
   "source": [
    "sample_std"
   ]
  },
  {
   "cell_type": "code",
   "execution_count": 6,
   "id": "cd80c7ab-f0f8-4999-82d3-9f873badf3dd",
   "metadata": {},
   "outputs": [
    {
     "data": {
      "text/plain": [
       "15"
      ]
     },
     "execution_count": 6,
     "metadata": {},
     "output_type": "execute_result"
    }
   ],
   "source": [
    "x"
   ]
  },
  {
   "cell_type": "code",
   "execution_count": 7,
   "id": "98330274-1e7e-42bc-84c6-ed5f2235be4d",
   "metadata": {},
   "outputs": [
    {
     "data": {
      "text/plain": [
       "1.172"
      ]
     },
     "execution_count": 7,
     "metadata": {},
     "output_type": "execute_result"
    }
   ],
   "source": [
    "sample_mean"
   ]
  },
  {
   "cell_type": "markdown",
   "id": "3487d574-a37c-4af2-a2ff-6602cf9cb7f5",
   "metadata": {},
   "source": [
    "# Assignment Task 1\n",
    "\n",
    "a. Build 99% Confidence Interval Using Sample Standard Deviation\n",
    "- \n",
    "Assuming the sample is representative of the population, construct a 99% confidence interval for the mean number of characters printed before the print-head fails using the sample standard deviation\n",
    "-  Explain the steps you take and the rationale behind using the t-distribution for this task\n",
    "\n"
   ]
  },
  {
   "cell_type": "code",
   "execution_count": 9,
   "id": "ce75932d-8860-4e3c-aa08-ea07ac939fc9",
   "metadata": {},
   "outputs": [],
   "source": [
    "# calculating all the values needed in getting the t_interval code/formula. \n",
    "confidence_level = 0.99\n",
    "alpha = 1 - confidence_level\n",
    "dof = x - 1 # degrees of freedom (sample size - 1)\n",
    "t_critical = stats.t.ppf(1 - alpha, dof) # critical t-value"
   ]
  },
  {
   "cell_type": "code",
   "execution_count": 10,
   "id": "4025e2ea-7231-43e8-872e-ce01189bb54c",
   "metadata": {},
   "outputs": [
    {
     "data": {
      "text/plain": [
       "0.010000000000000009"
      ]
     },
     "execution_count": 10,
     "metadata": {},
     "output_type": "execute_result"
    }
   ],
   "source": [
    "alpha"
   ]
  },
  {
   "cell_type": "code",
   "execution_count": 11,
   "id": "1b5945e9-a80e-4d60-aa6a-39573b0387d1",
   "metadata": {},
   "outputs": [
    {
     "data": {
      "text/plain": [
       "14"
      ]
     },
     "execution_count": 11,
     "metadata": {},
     "output_type": "execute_result"
    }
   ],
   "source": [
    "dof"
   ]
  },
  {
   "cell_type": "code",
   "execution_count": 12,
   "id": "91cde4d2-86b6-4b2d-a57c-c0b39e73c2c9",
   "metadata": {},
   "outputs": [
    {
     "data": {
      "text/plain": [
       "2.624494067560231"
      ]
     },
     "execution_count": 12,
     "metadata": {},
     "output_type": "execute_result"
    }
   ],
   "source": [
    "t_critical"
   ]
  },
  {
   "cell_type": "code",
   "execution_count": 13,
   "id": "ccd0daba-5736-4c14-8977-d2df2b4e228c",
   "metadata": {},
   "outputs": [],
   "source": [
    "# T Method\n",
    "Confidence_interval_1 = stats.t.interval(0.99, df = 14, loc = 1.172, scale = 0.31/np.sqrt(15))"
   ]
  },
  {
   "cell_type": "code",
   "execution_count": 14,
   "id": "4957926a-4f35-4284-8c30-68a865871286",
   "metadata": {},
   "outputs": [
    {
     "name": "stdout",
     "output_type": "stream",
     "text": [
      "99% Confidence Interval using sample standard deviation is: (0.9337285784410643, 1.4102714215589356)\n"
     ]
    }
   ],
   "source": [
    "print(f\"99% Confidence Interval using sample standard deviation is: {Confidence_interval_1}\")"
   ]
  },
  {
   "cell_type": "markdown",
   "id": "f8afd6be-2b86-41e6-bf99-96d422102c86",
   "metadata": {},
   "source": []
  },
  {
   "cell_type": "markdown",
   "id": "831e99b9-8b14-472a-93a5-a9ddf072262b",
   "metadata": {},
   "source": [
    "# Assignment Task 2\n",
    "\n",
    "b. Build 99% Confidence Interval Using Known Population Standard Deviation\n",
    "- \n",
    "If it were known that the population standard deviation is 0.2 million characters, construct a 99% confidence interval for the mean number of characters printed before failure\n"
   ]
  },
  {
   "cell_type": "code",
   "execution_count": 15,
   "id": "b9046463-eb32-4c0a-a0f0-d82b287f474e",
   "metadata": {},
   "outputs": [],
   "source": [
    "# known parameters\n",
    "\n",
    "population_std = 0.2\n",
    "\n",
    "# calculating Z-critical value\n",
    "z_critical = stats.norm.ppf(1 - alpha/2)"
   ]
  },
  {
   "cell_type": "code",
   "execution_count": 16,
   "id": "9352324d-a1e4-4e2b-b24f-a814ba9b2870",
   "metadata": {},
   "outputs": [],
   "source": [
    "# Z Method\n",
    "Confidence_interval_2 = stats.norm.interval(0.99, 1.172, 0.2/np.sqrt(15))"
   ]
  },
  {
   "cell_type": "code",
   "execution_count": 17,
   "id": "5008024e-40b6-49fe-affe-4fb97b955d6e",
   "metadata": {},
   "outputs": [
    {
     "name": "stdout",
     "output_type": "stream",
     "text": [
      "99% Confidence Interval using known population standard deviation: (1.038984746729094, 1.3050152532709058)\n"
     ]
    }
   ],
   "source": [
    "print(f\"99% Confidence Interval using known population standard deviation: {Confidence_interval_2}\")"
   ]
  },
  {
   "cell_type": "code",
   "execution_count": null,
   "id": "39ce459a-b34f-4f67-a665-978c6df4870a",
   "metadata": {},
   "outputs": [],
   "source": []
  }
 ],
 "metadata": {
  "kernelspec": {
   "display_name": "Python 3",
   "language": "python",
   "name": "python3"
  },
  "language_info": {
   "codemirror_mode": {
    "name": "ipython",
    "version": 3
   },
   "file_extension": ".py",
   "mimetype": "text/x-python",
   "name": "python",
   "nbconvert_exporter": "python",
   "pygments_lexer": "ipython3",
   "version": "3.8.8"
  }
 },
 "nbformat": 4,
 "nbformat_minor": 5
}
